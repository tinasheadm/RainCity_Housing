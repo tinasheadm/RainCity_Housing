{
 "cells": [
  {
   "cell_type": "code",
   "execution_count": 1,
   "id": "95c38938",
   "metadata": {
    "lines_to_next_cell": 1
   },
   "outputs": [],
   "source": [
    "import time"
   ]
  },
  {
   "cell_type": "code",
   "execution_count": 2,
   "id": "9f474c29",
   "metadata": {},
   "outputs": [],
   "source": [
    "# Simple approach with complexity O(n * sqrt(n))\n",
    "\n",
    "def find_primes(n):\n",
    "    # Create a list to store the prime numbers\n",
    "    primes = []\n",
    "    # Loop through each number from 2 to n\n",
    "    for num in range(2, n+1):\n",
    "        is_prime = True\n",
    "        # Loop through each number from 2 to the square root of num\n",
    "        for i in range(2, int(num**0.5)+1):\n",
    "            # If num is divisible by i, it's not a prime\n",
    "            if num % i == 0:\n",
    "                is_prime = False\n",
    "                break\n",
    "        # If is_prime is still True, add the num to the list of primes\n",
    "        if is_prime:\n",
    "            primes.append(num)\n",
    "    # Return the list of primes\n",
    "    return primes"
   ]
  },
  {
   "cell_type": "code",
   "execution_count": 3,
   "id": "7a972505",
   "metadata": {},
   "outputs": [
    {
     "name": "stdout",
     "output_type": "stream",
     "text": [
      "[2, 3, 5, 7, 11, 13, 17, 19, 23, 29]\n",
      "--- 0.0007791519165039062 seconds ---\n"
     ]
    }
   ],
   "source": [
    "start_time = time.time()\n",
    "print(find_primes(30))\n",
    "print(\"--- %s seconds ---\" % (time.time() - start_time))"
   ]
  },
  {
   "cell_type": "markdown",
   "id": "6375395d",
   "metadata": {},
   "source": [
    "The time complexity of this code is O(n * sqrt(n)). \n",
    "This is because the outer loop runs n times, and the inner loop runs sqrt(n) times for each value of num in the outer loop. \n",
    "Since the inner loop is a more restrictive condition, the overall time complexity is O(n * sqrt(n)).\n",
    "Note that this is a rough estimate of the time complexity and it depends on the implementation and hardware being used."
   ]
  },
  {
   "cell_type": "code",
   "execution_count": 5,
   "id": "0bbaa4b4",
   "metadata": {},
   "outputs": [],
   "source": [
    "#Second approach with comlexity\n",
    "\n",
    "def find_primes(n):\n",
    "    # Create a list of booleans to represent the numbers from 2 to n\n",
    "    is_prime = [True] * (n+1)\n",
    "    # Loop through each number from 2 to the square root of n\n",
    "    for i in range(2, int(n**0.5)+1):\n",
    "        # If i is prime, mark all its multiples as not prime\n",
    "        if is_prime[i]:\n",
    "            for j in range(i**2, n+1, i):\n",
    "                is_prime[j] = False\n",
    "    # Create a list to store the prime numbers\n",
    "    primes = [i for i in range(2, n+1) if is_prime[i]]\n",
    "    # Return the list of primes\n",
    "    return primes"
   ]
  },
  {
   "cell_type": "code",
   "execution_count": 6,
   "id": "f480fbcf",
   "metadata": {},
   "outputs": [
    {
     "name": "stdout",
     "output_type": "stream",
     "text": [
      "[2, 3, 5, 7, 11, 13, 17, 19, 23, 29]\n",
      "--- 0.00034809112548828125 seconds ---\n"
     ]
    }
   ],
   "source": [
    "start_time = time.time()\n",
    "print(find_primes(30))\n",
    "print(\"--- %s seconds ---\" % (time.time() - start_time))"
   ]
  },
  {
   "cell_type": "markdown",
   "id": "06c83a51",
   "metadata": {},
   "source": [
    "This algorithm has a time complexity of O(n * log(log(n))), which is much faster than the previous implementation for larger values of n."
   ]
  }
 ],
 "metadata": {
  "jupytext": {
   "cell_metadata_filter": "-all",
   "notebook_metadata_filter": "-all",
   "text_representation": {
    "extension": ".py",
    "format_name": "light"
   }
  },
  "kernelspec": {
   "display_name": "Python 3",
   "language": "python",
   "name": "python3"
  },
  "language_info": {
   "codemirror_mode": {
    "name": "ipython",
    "version": 3
   },
   "file_extension": ".py",
   "mimetype": "text/x-python",
   "name": "python",
   "nbconvert_exporter": "python",
   "pygments_lexer": "ipython3",
   "version": "3.11.1"
  },
  "vscode": {
   "interpreter": {
    "hash": "aee8b7b246df8f9039afb4144a1f6fd8d2ca17a180786b69acc140d282b71a49"
   }
  }
 },
 "nbformat": 4,
 "nbformat_minor": 5
}
