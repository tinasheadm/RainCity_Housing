{
 "cells": [
  {
   "cell_type": "markdown",
   "id": "4dd29e8c",
   "metadata": {},
   "source": [
    "1.   Define a function prime_factorization() that takes a number ‘n’ as an argument.\n",
    "2.   Initialize an empty list to store the prime factors.\n",
    "3.   Check if n is divisible by 2 and if so, add it to the list and divide n by 2.\n",
    "4.   Iterate over a range of 3 to the square root of n.\n",
    "5.   Check if n is divisible by the current number in the loop and if so, add it to the list and divide n by the current number.\n",
    "6.   Check if n is greater than 2 and if so, add it to the list.\n",
    "7.   Return the list of prime factors.\n",
    "8.   End."
   ]
  },
  {
   "cell_type": "code",
   "execution_count": 1,
   "id": "8ac94fdb",
   "metadata": {},
   "outputs": [
    {
     "name": "stdout",
     "output_type": "stream",
     "text": [
      "Enter a number: 200\n",
      "The prime factorization of 200 is: [2, 2, 2, 5, 5]\n"
     ]
    }
   ],
   "source": [
    "import math\n",
    "\n",
    "def prime_factorization(n): \n",
    "  \n",
    "    # Initialize the prime list \n",
    "    prime_list = [] \n",
    "      \n",
    "    # Print the number of two's that divide n \n",
    "    while n % 2 == 0: \n",
    "        prime_list.append(2) \n",
    "        n = n / 2\n",
    "          \n",
    "    # n must be odd at this point \n",
    "    # so a skip of 2 ( i = i + 2) can be used \n",
    "    for i in range(3,int(math.sqrt(n))+1,2): \n",
    "          \n",
    "        # while i divides n , print i ad divide n \n",
    "        while n % i== 0: \n",
    "            prime_list.append(i) \n",
    "            n = n / i \n",
    "              \n",
    "    # Condition if n is a prime \n",
    "    # number greater than 2 \n",
    "    if n > 2: \n",
    "        prime_list.append(n) \n",
    "          \n",
    "    return prime_list \n",
    "if __name__ == \"__main__\":\n",
    "    number = int(input(\"Enter a number: \"))\n",
    "    prime_list = prime_factorization(number)\n",
    "    print(f\"The prime factorization of {number} is: { prime_list}\")"
   ]
  },
  {
   "cell_type": "markdown",
   "id": "f1432f1c",
   "metadata": {},
   "source": [
    "The code above performs prime factorization for a given integer. The program starts by initializing a prime list. It then checks if the number is divisible by 2 and adds 2 to the prime list if it is. It then moves on to check if the number is divisible by other odd numbers up to the square root of the number. If it is divisible by any of these odd numbers, it adds them to the list. If the number is not divisible by any of these odd numbers, the number itself is added to the list. Finally, the prime list is printed."
   ]
  },
  {
   "cell_type": "markdown",
   "id": "b7f94dda",
   "metadata": {},
   "source": [
    "Computational Complexity:\n",
    "The computational complexity of this algorithm is O(n). This is because the algorithm needs to loop through all numbers from 2 to n in order to find the prime factors.\n",
    "The loop is a linear operation, meaning it will take O(n) time to complete.\n",
    "\n",
    "Novel Approaches:\n",
    "A novel approach to solving this problem would be using a Sieve of Eratosthenes. This algorithm is designed to find all prime numbers up to a given number, which can then be used to calculate the prime factorization.\n",
    "This algorithm has a much better computational complexity of O(n log log n)."
   ]
  },
  {
   "cell_type": "code",
   "execution_count": null,
   "id": "ef792508",
   "metadata": {},
   "outputs": [],
   "source": []
  },
  {
   "cell_type": "code",
   "execution_count": null,
   "id": "cda34210",
   "metadata": {},
   "outputs": [],
   "source": []
  }
 ],
 "metadata": {
  "kernelspec": {
   "display_name": "Python 3 (ipykernel)",
   "language": "python",
   "name": "python3"
  },
  "language_info": {
   "codemirror_mode": {
    "name": "ipython",
    "version": 3
   },
   "file_extension": ".py",
   "mimetype": "text/x-python",
   "name": "python",
   "nbconvert_exporter": "python",
   "pygments_lexer": "ipython3",
   "version": "3.9.7"
  }
 },
 "nbformat": 4,
 "nbformat_minor": 5
}
