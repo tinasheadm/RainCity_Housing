{
 "cells": [
  {
   "cell_type": "code",
   "execution_count": null,
   "id": "a11c8aa0",
   "metadata": {
    "lines_to_next_cell": 1
   },
   "outputs": [],
   "source": [
    "class Graph:\n",
    "    def __init__(self, vertices):\n",
    "        # Create a list of lists to store the graph\n",
    "        self.graph = [[] for _ in range(vertices)]\n",
    "    \n",
    "    # Add an edge between two vertices\n",
    "    def add_edge(self, vertex1, vertex2):\n",
    "        # Add vertex2 to the list of neighbors of vertex1\n",
    "        self.graph[vertex1].append(vertex2)\n",
    "        # Add vertex1 to the list of neighbors of vertex2\n",
    "        self.graph[vertex2].append(vertex1)\n",
    "    \n",
    "    # Print the graph\n",
    "    def print_graph(self):\n",
    "        # Loop through each vertex in the graph\n",
    "        for vertex, neighbors in enumerate(self.graph):\n",
    "            # Print the vertex and its list of neighbors\n",
    "            print(vertex, \"-->\", neighbors)\n",
    "    \n",
    "    # Implement Breadth First Search (BFS)\n",
    "    def bfs(self, start_vertex):\n",
    "        # Create a set to keep track of visited vertices\n",
    "        visited = [False] * len(self.graph)\n",
    "        # Create a queue to keep track of vertices to be visited\n",
    "        queue = [start_vertex]\n",
    "        \n",
    "        # Mark the start vertex as visited\n",
    "        visited[start_vertex] = True\n",
    "        \n",
    "        # Loop until the queue is empty\n",
    "        while queue:\n",
    "            # Dequeue a vertex from the queue\n",
    "            vertex = queue.pop(0)\n",
    "            # Print the vertex\n",
    "            print(vertex)\n",
    "            # Loop through each neighbor of the vertex\n",
    "            for neighbor in self.graph[vertex]:\n",
    "                # If the neighbor has not been visited yet\n",
    "                if not visited[neighbor]:\n",
    "                    # Mark the neighbor as visited\n",
    "                    visited[neighbor] = True\n",
    "                    # Enqueue the neighbor\n",
    "                    queue.append(neighbor)\n",
    "    \n",
    "    # Implement Depth First Search (DFS)\n",
    "    def dfs(self, start_vertex, visited=None):\n",
    "        # Initialize the visited list if not passed as argument\n",
    "        if visited is None:\n",
    "            visited = [False] * len(self.graph)\n",
    "        # Mark the start vertex as visited\n",
    "        visited[start_vertex] = True\n",
    "        # Print the start vertex\n",
    "        print(start_vertex)\n",
    "        # Loop through each neighbor of the start vertex\n",
    "        for neighbor in self.graph[start_vertex]:\n",
    "            # If the neighbor has not been visited yet\n",
    "            if not visited[neighbor]:\n",
    "                # Recursively call dfs on the neighbor\n",
    "                self.dfs(neighbor, visited)"
   ]
  },
  {
   "cell_type": "code",
   "execution_count": null,
   "id": "7b5776c6",
   "metadata": {},
   "outputs": [],
   "source": [
    "# Create a new graph with 6 vertices\n",
    "graph = Graph(6)"
   ]
  },
  {
   "cell_type": "code",
   "execution_count": null,
   "id": "8fad531b",
   "metadata": {},
   "outputs": [],
   "source": [
    "# Add some edges to the graph\n",
    "graph.add_edge(0, 1)\n",
    "graph.add_edge(0, 2)\n",
    "graph.add_edge(1, 2)\n",
    "graph.add_edge(1, 3)\n",
    "graph.add_edge(2, 4)\n",
    "graph.add_edge(3, 4)\n",
    "graph.add_edge(3, 5)"
   ]
  },
  {
   "cell_type": "code",
   "execution_count": null,
   "id": "c2b5921c",
   "metadata": {},
   "outputs": [],
   "source": [
    "# Print the graph\n",
    "graph.print_graph()"
   ]
  },
  {
   "cell_type": "code",
   "execution_count": null,
   "id": "a5b6bee0",
   "metadata": {},
   "outputs": [],
   "source": [
    "# Run Breadth First Search (BFS) starting from vertex 0\n",
    "print(\"BFS starting from vertex 0:\")\n",
    "graph.bfs(0)"
   ]
  },
  {
   "cell_type": "code",
   "execution_count": null,
   "id": "cd524449",
   "metadata": {},
   "outputs": [],
   "source": [
    "# Run Depth First Search (DFS) starting from vertex 0\n",
    "print(\"DFS starting from vertex 0:\")\n",
    "graph.dfs(0)"
   ]
  }
 ],
 "metadata": {
  "jupytext": {
   "cell_metadata_filter": "-all",
   "notebook_metadata_filter": "-all",
   "text_representation": {
    "extension": ".py",
    "format_name": "light"
   }
  },
  "kernelspec": {
   "display_name": "Python 3 (ipykernel)",
   "language": "python",
   "name": "python3"
  }
 },
 "nbformat": 4,
 "nbformat_minor": 5
}
